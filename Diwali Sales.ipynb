{
 "cells": [
  {
   "cell_type": "code",
   "execution_count": 48,
   "id": "668323c0",
   "metadata": {
    "executionInfo": {
     "elapsed": 1507,
     "status": "ok",
     "timestamp": 1652851668256,
     "user": {
      "displayName": "Aniketh H",
      "userId": "11737461681111421407"
     },
     "user_tz": -330
    },
    "id": "668323c0"
   },
   "outputs": [
    {
     "ename": "AttributeError",
     "evalue": "module 'warnings' has no attribute 'warnings'",
     "output_type": "error",
     "traceback": [
      "\u001b[1;31m---------------------------------------------------------------------------\u001b[0m",
      "\u001b[1;31mAttributeError\u001b[0m                            Traceback (most recent call last)",
      "\u001b[1;32m<ipython-input-48-147d6d57689d>\u001b[0m in \u001b[0;36m<module>\u001b[1;34m\u001b[0m\n\u001b[0;32m      5\u001b[0m \u001b[1;32mfrom\u001b[0m \u001b[0msklearn\u001b[0m\u001b[1;33m.\u001b[0m\u001b[0mtree\u001b[0m \u001b[1;32mimport\u001b[0m \u001b[0mDecisionTreeRegressor\u001b[0m\u001b[1;33m\u001b[0m\u001b[1;33m\u001b[0m\u001b[0m\n\u001b[0;32m      6\u001b[0m \u001b[1;32mimport\u001b[0m \u001b[0mwarnings\u001b[0m\u001b[1;33m\u001b[0m\u001b[1;33m\u001b[0m\u001b[0m\n\u001b[1;32m----> 7\u001b[1;33m \u001b[0mwarnings\u001b[0m\u001b[1;33m.\u001b[0m\u001b[0mwarnings\u001b[0m\u001b[1;33m(\u001b[0m\u001b[1;34m'ignore'\u001b[0m\u001b[1;33m)\u001b[0m\u001b[1;33m\u001b[0m\u001b[1;33m\u001b[0m\u001b[0m\n\u001b[0m",
      "\u001b[1;31mAttributeError\u001b[0m: module 'warnings' has no attribute 'warnings'"
     ]
    }
   ],
   "source": [
    "import numpy as np \n",
    "import pandas as pd \n",
    "import matplotlib.pyplot as plt\n",
    "import seaborn as sns\n",
    "from sklearn.tree import DecisionTreeRegressor\n",
    "import warnings\n",
    "warnings.warnings('ignore')\n"
   ]
  },
  {
   "cell_type": "code",
   "execution_count": 4,
   "id": "6b70fb2f",
   "metadata": {
    "executionInfo": {
     "elapsed": 40,
     "status": "ok",
     "timestamp": 1652851668261,
     "user": {
      "displayName": "Aniketh H",
      "userId": "11737461681111421407"
     },
     "user_tz": -330
    },
    "id": "6b70fb2f"
   },
   "outputs": [],
   "source": [
    "df = pd.read_csv('diwali_sales.csv')"
   ]
  },
  {
   "cell_type": "code",
   "execution_count": 5,
   "id": "dcbb3305",
   "metadata": {
    "colab": {
     "base_uri": "https://localhost:8080/",
     "height": 288
    },
    "executionInfo": {
     "elapsed": 41,
     "status": "ok",
     "timestamp": 1652851668263,
     "user": {
      "displayName": "Aniketh H",
      "userId": "11737461681111421407"
     },
     "user_tz": -330
    },
    "id": "dcbb3305",
    "outputId": "082cfe14-4b75-4b39-ddab-2487047ee4ca"
   },
   "outputs": [
    {
     "data": {
      "text/html": [
       "<div>\n",
       "<style scoped>\n",
       "    .dataframe tbody tr th:only-of-type {\n",
       "        vertical-align: middle;\n",
       "    }\n",
       "\n",
       "    .dataframe tbody tr th {\n",
       "        vertical-align: top;\n",
       "    }\n",
       "\n",
       "    .dataframe thead th {\n",
       "        text-align: right;\n",
       "    }\n",
       "</style>\n",
       "<table border=\"1\" class=\"dataframe\">\n",
       "  <thead>\n",
       "    <tr style=\"text-align: right;\">\n",
       "      <th></th>\n",
       "      <th>sl_no</th>\n",
       "      <th>user_id</th>\n",
       "      <th>city</th>\n",
       "      <th>product_1\\nmysore_pak\\n(Kg)</th>\n",
       "      <th>product_2\\nsoan_ papdi\\n(Kg)</th>\n",
       "      <th>product_3\\nmotichoor_ chaknachoor\\n(Kg)</th>\n",
       "      <th>product_4\\nkaju_barfi\\n(Kg)</th>\n",
       "      <th>amont_1\\nmysore_pak</th>\n",
       "      <th>amount_2\\nsona_padi</th>\n",
       "      <th>amount_3\\nmotichoor_ chaknachoor</th>\n",
       "      <th>amount_4\\nkaju_barfi</th>\n",
       "      <th>total_amount</th>\n",
       "    </tr>\n",
       "  </thead>\n",
       "  <tbody>\n",
       "    <tr>\n",
       "      <th>0</th>\n",
       "      <td>1</td>\n",
       "      <td>10001</td>\n",
       "      <td>BENGALURU</td>\n",
       "      <td>0.1</td>\n",
       "      <td>1.5</td>\n",
       "      <td>0.0</td>\n",
       "      <td>0.0</td>\n",
       "      <td>70</td>\n",
       "      <td>1125</td>\n",
       "      <td>0</td>\n",
       "      <td>0</td>\n",
       "      <td>1195</td>\n",
       "    </tr>\n",
       "    <tr>\n",
       "      <th>1</th>\n",
       "      <td>2</td>\n",
       "      <td>10002</td>\n",
       "      <td>BENGALURU</td>\n",
       "      <td>1.5</td>\n",
       "      <td>0.0</td>\n",
       "      <td>1.5</td>\n",
       "      <td>2.5</td>\n",
       "      <td>1050</td>\n",
       "      <td>0</td>\n",
       "      <td>1200</td>\n",
       "      <td>3000</td>\n",
       "      <td>5250</td>\n",
       "    </tr>\n",
       "    <tr>\n",
       "      <th>2</th>\n",
       "      <td>3</td>\n",
       "      <td>10003</td>\n",
       "      <td>BENGALURU</td>\n",
       "      <td>0.0</td>\n",
       "      <td>0.0</td>\n",
       "      <td>0.2</td>\n",
       "      <td>0.0</td>\n",
       "      <td>0</td>\n",
       "      <td>0</td>\n",
       "      <td>160</td>\n",
       "      <td>0</td>\n",
       "      <td>160</td>\n",
       "    </tr>\n",
       "    <tr>\n",
       "      <th>3</th>\n",
       "      <td>4</td>\n",
       "      <td>10004</td>\n",
       "      <td>BENGALURU</td>\n",
       "      <td>2.0</td>\n",
       "      <td>0.0</td>\n",
       "      <td>0.2</td>\n",
       "      <td>0.0</td>\n",
       "      <td>1400</td>\n",
       "      <td>0</td>\n",
       "      <td>160</td>\n",
       "      <td>0</td>\n",
       "      <td>1560</td>\n",
       "    </tr>\n",
       "    <tr>\n",
       "      <th>4</th>\n",
       "      <td>5</td>\n",
       "      <td>10005</td>\n",
       "      <td>BENGALURU</td>\n",
       "      <td>0.0</td>\n",
       "      <td>0.5</td>\n",
       "      <td>1.0</td>\n",
       "      <td>0.0</td>\n",
       "      <td>0</td>\n",
       "      <td>375</td>\n",
       "      <td>800</td>\n",
       "      <td>0</td>\n",
       "      <td>1175</td>\n",
       "    </tr>\n",
       "  </tbody>\n",
       "</table>\n",
       "</div>"
      ],
      "text/plain": [
       "   sl_no  user_id       city  product_1\\nmysore_pak\\n(Kg)  \\\n",
       "0      1    10001  BENGALURU                          0.1   \n",
       "1      2    10002  BENGALURU                          1.5   \n",
       "2      3    10003  BENGALURU                          0.0   \n",
       "3      4    10004  BENGALURU                          2.0   \n",
       "4      5    10005  BENGALURU                          0.0   \n",
       "\n",
       "   product_2\\nsoan_ papdi\\n(Kg)  product_3\\nmotichoor_ chaknachoor\\n(Kg)  \\\n",
       "0                           1.5                                      0.0   \n",
       "1                           0.0                                      1.5   \n",
       "2                           0.0                                      0.2   \n",
       "3                           0.0                                      0.2   \n",
       "4                           0.5                                      1.0   \n",
       "\n",
       "   product_4\\nkaju_barfi\\n(Kg)   amont_1\\nmysore_pak    amount_2\\nsona_padi   \\\n",
       "0                          0.0                     70                   1125   \n",
       "1                          2.5                   1050                      0   \n",
       "2                          0.0                      0                      0   \n",
       "3                          0.0                   1400                      0   \n",
       "4                          0.0                      0                    375   \n",
       "\n",
       "   amount_3\\nmotichoor_ chaknachoor   amount_4\\nkaju_barfi  total_amount  \n",
       "0                                  0                     0          1195  \n",
       "1                               1200                  3000          5250  \n",
       "2                                160                     0           160  \n",
       "3                                160                     0          1560  \n",
       "4                                800                     0          1175  "
      ]
     },
     "execution_count": 5,
     "metadata": {},
     "output_type": "execute_result"
    }
   ],
   "source": [
    "df.head()"
   ]
  },
  {
   "cell_type": "code",
   "execution_count": 6,
   "id": "371fb05f",
   "metadata": {},
   "outputs": [
    {
     "data": {
      "text/html": [
       "<div>\n",
       "<style scoped>\n",
       "    .dataframe tbody tr th:only-of-type {\n",
       "        vertical-align: middle;\n",
       "    }\n",
       "\n",
       "    .dataframe tbody tr th {\n",
       "        vertical-align: top;\n",
       "    }\n",
       "\n",
       "    .dataframe thead th {\n",
       "        text-align: right;\n",
       "    }\n",
       "</style>\n",
       "<table border=\"1\" class=\"dataframe\">\n",
       "  <thead>\n",
       "    <tr style=\"text-align: right;\">\n",
       "      <th></th>\n",
       "      <th>sl_no</th>\n",
       "      <th>user_id</th>\n",
       "      <th>city</th>\n",
       "      <th>product_1\\nmysore_pak\\n(Kg)</th>\n",
       "      <th>product_2\\nsoan_ papdi\\n(Kg)</th>\n",
       "      <th>product_3\\nmotichoor_ chaknachoor\\n(Kg)</th>\n",
       "      <th>product_4\\nkaju_barfi\\n(Kg)</th>\n",
       "      <th>amont_1\\nmysore_pak</th>\n",
       "      <th>amount_2\\nsona_padi</th>\n",
       "      <th>amount_3\\nmotichoor_ chaknachoor</th>\n",
       "      <th>amount_4\\nkaju_barfi</th>\n",
       "      <th>total_amount</th>\n",
       "    </tr>\n",
       "  </thead>\n",
       "  <tbody>\n",
       "    <tr>\n",
       "      <th>5</th>\n",
       "      <td>6</td>\n",
       "      <td>10006</td>\n",
       "      <td>BENGALURU</td>\n",
       "      <td>1.0</td>\n",
       "      <td>1.0</td>\n",
       "      <td>1.0</td>\n",
       "      <td>1.0</td>\n",
       "      <td>700</td>\n",
       "      <td>750</td>\n",
       "      <td>800</td>\n",
       "      <td>1200</td>\n",
       "      <td>3450</td>\n",
       "    </tr>\n",
       "    <tr>\n",
       "      <th>13</th>\n",
       "      <td>14</td>\n",
       "      <td>10014</td>\n",
       "      <td>BENGALURU</td>\n",
       "      <td>1.0</td>\n",
       "      <td>2.0</td>\n",
       "      <td>0.0</td>\n",
       "      <td>1.0</td>\n",
       "      <td>700</td>\n",
       "      <td>1500</td>\n",
       "      <td>0</td>\n",
       "      <td>1200</td>\n",
       "      <td>3400</td>\n",
       "    </tr>\n",
       "    <tr>\n",
       "      <th>17</th>\n",
       "      <td>18</td>\n",
       "      <td>10018</td>\n",
       "      <td>BENGALURU</td>\n",
       "      <td>1.0</td>\n",
       "      <td>0.5</td>\n",
       "      <td>1.0</td>\n",
       "      <td>0.0</td>\n",
       "      <td>700</td>\n",
       "      <td>375</td>\n",
       "      <td>800</td>\n",
       "      <td>0</td>\n",
       "      <td>1875</td>\n",
       "    </tr>\n",
       "    <tr>\n",
       "      <th>26</th>\n",
       "      <td>27</td>\n",
       "      <td>10027</td>\n",
       "      <td>BENGALURU</td>\n",
       "      <td>1.0</td>\n",
       "      <td>0.0</td>\n",
       "      <td>0.0</td>\n",
       "      <td>0.2</td>\n",
       "      <td>700</td>\n",
       "      <td>0</td>\n",
       "      <td>0</td>\n",
       "      <td>240</td>\n",
       "      <td>940</td>\n",
       "    </tr>\n",
       "    <tr>\n",
       "      <th>31</th>\n",
       "      <td>32</td>\n",
       "      <td>10032</td>\n",
       "      <td>BENGALURU</td>\n",
       "      <td>1.0</td>\n",
       "      <td>4.0</td>\n",
       "      <td>0.0</td>\n",
       "      <td>0.0</td>\n",
       "      <td>700</td>\n",
       "      <td>3000</td>\n",
       "      <td>0</td>\n",
       "      <td>0</td>\n",
       "      <td>3700</td>\n",
       "    </tr>\n",
       "    <tr>\n",
       "      <th>...</th>\n",
       "      <td>...</td>\n",
       "      <td>...</td>\n",
       "      <td>...</td>\n",
       "      <td>...</td>\n",
       "      <td>...</td>\n",
       "      <td>...</td>\n",
       "      <td>...</td>\n",
       "      <td>...</td>\n",
       "      <td>...</td>\n",
       "      <td>...</td>\n",
       "      <td>...</td>\n",
       "      <td>...</td>\n",
       "    </tr>\n",
       "    <tr>\n",
       "      <th>967</th>\n",
       "      <td>968</td>\n",
       "      <td>40218</td>\n",
       "      <td>HUBLI</td>\n",
       "      <td>1.0</td>\n",
       "      <td>1.0</td>\n",
       "      <td>1.0</td>\n",
       "      <td>1.0</td>\n",
       "      <td>700</td>\n",
       "      <td>750</td>\n",
       "      <td>800</td>\n",
       "      <td>1200</td>\n",
       "      <td>3450</td>\n",
       "    </tr>\n",
       "    <tr>\n",
       "      <th>975</th>\n",
       "      <td>976</td>\n",
       "      <td>40226</td>\n",
       "      <td>HUBLI</td>\n",
       "      <td>1.0</td>\n",
       "      <td>1.0</td>\n",
       "      <td>1.0</td>\n",
       "      <td>1.0</td>\n",
       "      <td>700</td>\n",
       "      <td>750</td>\n",
       "      <td>800</td>\n",
       "      <td>1200</td>\n",
       "      <td>3450</td>\n",
       "    </tr>\n",
       "    <tr>\n",
       "      <th>979</th>\n",
       "      <td>980</td>\n",
       "      <td>40230</td>\n",
       "      <td>HUBLI</td>\n",
       "      <td>1.0</td>\n",
       "      <td>1.5</td>\n",
       "      <td>0.0</td>\n",
       "      <td>0.0</td>\n",
       "      <td>700</td>\n",
       "      <td>1125</td>\n",
       "      <td>0</td>\n",
       "      <td>0</td>\n",
       "      <td>1825</td>\n",
       "    </tr>\n",
       "    <tr>\n",
       "      <th>992</th>\n",
       "      <td>993</td>\n",
       "      <td>40243</td>\n",
       "      <td>HUBLI</td>\n",
       "      <td>1.0</td>\n",
       "      <td>0.0</td>\n",
       "      <td>2.0</td>\n",
       "      <td>0.0</td>\n",
       "      <td>700</td>\n",
       "      <td>0</td>\n",
       "      <td>1600</td>\n",
       "      <td>0</td>\n",
       "      <td>2300</td>\n",
       "    </tr>\n",
       "    <tr>\n",
       "      <th>996</th>\n",
       "      <td>997</td>\n",
       "      <td>40247</td>\n",
       "      <td>HUBLI</td>\n",
       "      <td>1.0</td>\n",
       "      <td>1.5</td>\n",
       "      <td>0.0</td>\n",
       "      <td>0.0</td>\n",
       "      <td>700</td>\n",
       "      <td>1125</td>\n",
       "      <td>0</td>\n",
       "      <td>0</td>\n",
       "      <td>1825</td>\n",
       "    </tr>\n",
       "  </tbody>\n",
       "</table>\n",
       "<p>218 rows × 12 columns</p>\n",
       "</div>"
      ],
      "text/plain": [
       "     sl_no  user_id       city  product_1\\nmysore_pak\\n(Kg)  \\\n",
       "5        6    10006  BENGALURU                          1.0   \n",
       "13      14    10014  BENGALURU                          1.0   \n",
       "17      18    10018  BENGALURU                          1.0   \n",
       "26      27    10027  BENGALURU                          1.0   \n",
       "31      32    10032  BENGALURU                          1.0   \n",
       "..     ...      ...        ...                          ...   \n",
       "967    968    40218      HUBLI                          1.0   \n",
       "975    976    40226      HUBLI                          1.0   \n",
       "979    980    40230      HUBLI                          1.0   \n",
       "992    993    40243      HUBLI                          1.0   \n",
       "996    997    40247      HUBLI                          1.0   \n",
       "\n",
       "     product_2\\nsoan_ papdi\\n(Kg)  product_3\\nmotichoor_ chaknachoor\\n(Kg)  \\\n",
       "5                             1.0                                      1.0   \n",
       "13                            2.0                                      0.0   \n",
       "17                            0.5                                      1.0   \n",
       "26                            0.0                                      0.0   \n",
       "31                            4.0                                      0.0   \n",
       "..                            ...                                      ...   \n",
       "967                           1.0                                      1.0   \n",
       "975                           1.0                                      1.0   \n",
       "979                           1.5                                      0.0   \n",
       "992                           0.0                                      2.0   \n",
       "996                           1.5                                      0.0   \n",
       "\n",
       "     product_4\\nkaju_barfi\\n(Kg)   amont_1\\nmysore_pak   \\\n",
       "5                            1.0                    700   \n",
       "13                           1.0                    700   \n",
       "17                           0.0                    700   \n",
       "26                           0.2                    700   \n",
       "31                           0.0                    700   \n",
       "..                           ...                    ...   \n",
       "967                          1.0                    700   \n",
       "975                          1.0                    700   \n",
       "979                          0.0                    700   \n",
       "992                          0.0                    700   \n",
       "996                          0.0                    700   \n",
       "\n",
       "      amount_2\\nsona_padi   amount_3\\nmotichoor_ chaknachoor   \\\n",
       "5                      750                                800   \n",
       "13                    1500                                  0   \n",
       "17                     375                                800   \n",
       "26                       0                                  0   \n",
       "31                    3000                                  0   \n",
       "..                     ...                                ...   \n",
       "967                    750                                800   \n",
       "975                    750                                800   \n",
       "979                   1125                                  0   \n",
       "992                      0                               1600   \n",
       "996                   1125                                  0   \n",
       "\n",
       "     amount_4\\nkaju_barfi  total_amount  \n",
       "5                    1200          3450  \n",
       "13                   1200          3400  \n",
       "17                      0          1875  \n",
       "26                    240           940  \n",
       "31                      0          3700  \n",
       "..                    ...           ...  \n",
       "967                  1200          3450  \n",
       "975                  1200          3450  \n",
       "979                     0          1825  \n",
       "992                     0          2300  \n",
       "996                     0          1825  \n",
       "\n",
       "[218 rows x 12 columns]"
      ]
     },
     "execution_count": 6,
     "metadata": {},
     "output_type": "execute_result"
    }
   ],
   "source": [
    "df[df['product_1\\nmysore_pak\\n(Kg)'] == 1.0]"
   ]
  },
  {
   "cell_type": "code",
   "execution_count": 7,
   "id": "9df85431",
   "metadata": {
    "colab": {
     "base_uri": "https://localhost:8080/"
    },
    "executionInfo": {
     "elapsed": 37,
     "status": "ok",
     "timestamp": 1652851668264,
     "user": {
      "displayName": "Aniketh H",
      "userId": "11737461681111421407"
     },
     "user_tz": -330
    },
    "id": "9df85431",
    "outputId": "c997c4cd-8864-41a6-9171-22a466a38067"
   },
   "outputs": [
    {
     "data": {
      "text/plain": [
       "(1000, 12)"
      ]
     },
     "execution_count": 7,
     "metadata": {},
     "output_type": "execute_result"
    }
   ],
   "source": [
    "df.shape\n"
   ]
  },
  {
   "cell_type": "code",
   "execution_count": 8,
   "id": "f5151df0",
   "metadata": {
    "colab": {
     "base_uri": "https://localhost:8080/"
    },
    "executionInfo": {
     "elapsed": 25,
     "status": "ok",
     "timestamp": 1652851668264,
     "user": {
      "displayName": "Aniketh H",
      "userId": "11737461681111421407"
     },
     "user_tz": -330
    },
    "id": "f5151df0",
    "outputId": "4666a0d9-70a6-41af-b586-d6c4a6a2f7a6"
   },
   "outputs": [
    {
     "data": {
      "text/plain": [
       "sl_no                                      0\n",
       "user_id                                    0\n",
       "city                                       0\n",
       "product_1\\nmysore_pak\\n(Kg)                0\n",
       "product_2\\nsoan_ papdi\\n(Kg)               0\n",
       "product_3\\nmotichoor_ chaknachoor\\n(Kg)    0\n",
       "product_4\\nkaju_barfi\\n(Kg)                0\n",
       " amont_1\\nmysore_pak                       0\n",
       " amount_2\\nsona_padi                       0\n",
       "amount_3\\nmotichoor_ chaknachoor           0\n",
       "amount_4\\nkaju_barfi                       0\n",
       "total_amount                               0\n",
       "dtype: int64"
      ]
     },
     "execution_count": 8,
     "metadata": {},
     "output_type": "execute_result"
    }
   ],
   "source": [
    "df.isnull().sum()"
   ]
  },
  {
   "cell_type": "code",
   "execution_count": 9,
   "id": "20d974df",
   "metadata": {},
   "outputs": [
    {
     "name": "stdout",
     "output_type": "stream",
     "text": [
      "Requirement already satisfied: pandas in c:\\users\\hp\\anaconda3\\lib\\site-packages (1.2.4)\n",
      "Requirement already satisfied: numpy>=1.16.5 in c:\\users\\hp\\anaconda3\\lib\\site-packages (from pandas) (1.20.1)\n",
      "Requirement already satisfied: python-dateutil>=2.7.3 in c:\\users\\hp\\anaconda3\\lib\\site-packages (from pandas) (2.8.1)\n",
      "Requirement already satisfied: pytz>=2017.3 in c:\\users\\hp\\anaconda3\\lib\\site-packages (from pandas) (2021.1)\n",
      "Requirement already satisfied: six>=1.5 in c:\\users\\hp\\appdata\\roaming\\python\\python38\\site-packages (from python-dateutil>=2.7.3->pandas) (1.15.0)\n"
     ]
    }
   ],
   "source": [
    "!pip install pandas"
   ]
  },
  {
   "cell_type": "code",
   "execution_count": 10,
   "id": "9bf633f0",
   "metadata": {
    "executionInfo": {
     "elapsed": 21,
     "status": "ok",
     "timestamp": 1652851668265,
     "user": {
      "displayName": "Aniketh H",
      "userId": "11737461681111421407"
     },
     "user_tz": -330
    },
    "id": "9bf633f0"
   },
   "outputs": [],
   "source": [
    "import seaborn as sns"
   ]
  },
  {
   "cell_type": "code",
   "execution_count": 11,
   "id": "a3bc1353",
   "metadata": {
    "colab": {
     "base_uri": "https://localhost:8080/",
     "height": 296
    },
    "executionInfo": {
     "elapsed": 1533,
     "status": "ok",
     "timestamp": 1652851669778,
     "user": {
      "displayName": "Aniketh H",
      "userId": "11737461681111421407"
     },
     "user_tz": -330
    },
    "id": "a3bc1353",
    "outputId": "f40ff1b5-01ae-4605-ebe7-bb0a774cd1cb"
   },
   "outputs": [
    {
     "data": {
      "text/plain": [
       "<AxesSubplot:xlabel='city', ylabel='count'>"
      ]
     },
     "execution_count": 11,
     "metadata": {},
     "output_type": "execute_result"
    },
    {
     "data": {
      "image/png": "[encoded data removed]",
      "text/plain": [
       "<Figure size 432x288 with 1 Axes>"
      ]
     },
     "metadata": {
      "needs_background": "light"
     },
     "output_type": "display_data"
    }
   ],
   "source": [
    "sns.countplot(x='city',data = df)"
   ]
  },
  {
   "cell_type": "code",
   "execution_count": 12,
   "id": "23cb6406",
   "metadata": {
    "colab": {
     "base_uri": "https://localhost:8080/",
     "height": 376
    },
    "executionInfo": {
     "elapsed": 42,
     "status": "ok",
     "timestamp": 1652851669779,
     "user": {
      "displayName": "Aniketh H",
      "userId": "11737461681111421407"
     },
     "user_tz": -330
    },
    "id": "23cb6406",
    "outputId": "0f2d7e22-88f9-4a7f-b0cd-f6ea5b29fe08",
    "scrolled": true
   },
   "outputs": [
    {
     "name": "stderr",
     "output_type": "stream",
     "text": [
      "C:\\Users\\hp\\anaconda3\\lib\\site-packages\\seaborn\\_decorators.py:36: FutureWarning: Pass the following variable as a keyword arg: x. From version 0.12, the only valid positional argument will be `data`, and passing other arguments without an explicit keyword will result in an error or misinterpretation.\n",
      "  warnings.warn(\n"
     ]
    },
    {
     "data": {
      "text/plain": [
       "<AxesSubplot:xlabel='product_1\\nmysore_pak\\n(Kg)', ylabel='count'>"
      ]
     },
     "execution_count": 12,
     "metadata": {},
     "output_type": "execute_result"
    },
    {
     "data": {
      "image/png": "[encoded data removed]",
      "text/plain": [
       "<Figure size 432x288 with 1 Axes>"
      ]
     },
     "metadata": {
      "needs_background": "light"
     },
     "output_type": "display_data"
    }
   ],
   "source": [
    "sns.countplot('product_1\\nmysore_pak\\n(Kg)',data = df)"
   ]
  },
  {
   "cell_type": "code",
   "execution_count": 13,
   "id": "441c2fb1",
   "metadata": {},
   "outputs": [
    {
     "name": "stderr",
     "output_type": "stream",
     "text": [
      "C:\\Users\\hp\\anaconda3\\lib\\site-packages\\seaborn\\_decorators.py:36: FutureWarning: Pass the following variable as a keyword arg: x. From version 0.12, the only valid positional argument will be `data`, and passing other arguments without an explicit keyword will result in an error or misinterpretation.\n",
      "  warnings.warn(\n"
     ]
    },
    {
     "data": {
      "text/plain": [
       "<AxesSubplot:xlabel='product_2\\nsoan_ papdi\\n(Kg)', ylabel='count'>"
      ]
     },
     "execution_count": 13,
     "metadata": {},
     "output_type": "execute_result"
    },
    {
     "data": {
      "image/png": "[encoded data removed]",
      "text/plain": [
       "<Figure size 432x288 with 1 Axes>"
      ]
     },
     "metadata": {
      "needs_background": "light"
     },
     "output_type": "display_data"
    }
   ],
   "source": [
    "sns.countplot('product_2\\nsoan_ papdi\\n(Kg)',data = df)"
   ]
  },
  {
   "cell_type": "code",
   "execution_count": 15,
   "id": "bfebe91d",
   "metadata": {},
   "outputs": [
    {
     "data": {
      "text/plain": [
       "<AxesSubplot:xlabel='product_3\\nmotichoor_ chaknachoor\\n(Kg)', ylabel='count'>"
      ]
     },
     "execution_count": 15,
     "metadata": {},
     "output_type": "execute_result"
    },
    {
     "data": {
      "image/png": "[encoded data removed]",
      "text/plain": [
       "<Figure size 432x288 with 1 Axes>"
      ]
     },
     "metadata": {
      "needs_background": "light"
     },
     "output_type": "display_data"
    }
   ],
   "source": [
    "sns.countplot('product_3\\nmotichoor_ chaknachoor\\n(Kg)',data = df)"
   ]
  },
  {
   "cell_type": "code",
   "execution_count": 16,
   "id": "3a83765e",
   "metadata": {},
   "outputs": [
    {
     "name": "stderr",
     "output_type": "stream",
     "text": [
      "C:\\Users\\hp\\anaconda3\\lib\\site-packages\\seaborn\\_decorators.py:36: FutureWarning: Pass the following variable as a keyword arg: x. From version 0.12, the only valid positional argument will be `data`, and passing other arguments without an explicit keyword will result in an error or misinterpretation.\n",
      "  warnings.warn(\n"
     ]
    },
    {
     "data": {
      "text/plain": [
       "<AxesSubplot:xlabel='product_4\\nkaju_barfi\\n(Kg)', ylabel='count'>"
      ]
     },
     "execution_count": 16,
     "metadata": {},
     "output_type": "execute_result"
    },
    {
     "data": {
      "image/png": "[encoded data removed]",
      "text/plain": [
       "<Figure size 432x288 with 1 Axes>"
      ]
     },
     "metadata": {
      "needs_background": "light"
     },
     "output_type": "display_data"
    }
   ],
   "source": [
    "sns.countplot('product_4\\nkaju_barfi\\n(Kg)',data = df)"
   ]
  },
  {
   "cell_type": "code",
   "execution_count": 17,
   "id": "ce9bf4b5",
   "metadata": {
    "colab": {
     "base_uri": "https://localhost:8080/",
     "height": 321
    },
    "executionInfo": {
     "elapsed": 47,
     "status": "ok",
     "timestamp": 1652851741250,
     "user": {
      "displayName": "Aniketh H",
      "userId": "11737461681111421407"
     },
     "user_tz": -330
    },
    "id": "ce9bf4b5",
    "outputId": "26ea7294-82ff-4c7f-81e7-c1f074fa4db9"
   },
   "outputs": [
    {
     "data": {
      "text/plain": [
       "<AxesSubplot:xlabel='product_1\\nmysore_pak\\n(Kg)'>"
      ]
     },
     "execution_count": 17,
     "metadata": {},
     "output_type": "execute_result"
    },
    {
     "data": {
      "image/png": "[encoded data removed]",
      "text/plain": [
       "<Figure size 432x288 with 1 Axes>"
      ]
     },
     "metadata": {
      "needs_background": "light"
     },
     "output_type": "display_data"
    }
   ],
   "source": [
    "sns.boxplot(x='product_1\\nmysore_pak\\n(Kg)',data = df)"
   ]
  },
  {
   "cell_type": "code",
   "execution_count": 18,
   "id": "c7a1e6a5",
   "metadata": {
    "colab": {
     "base_uri": "https://localhost:8080/",
     "height": 321
    },
    "executionInfo": {
     "elapsed": 1130,
     "status": "ok",
     "timestamp": 1652851742347,
     "user": {
      "displayName": "Aniketh H",
      "userId": "11737461681111421407"
     },
     "user_tz": -330
    },
    "id": "c7a1e6a5",
    "outputId": "7a020133-6a9e-435d-ba4e-2d1158aa8575"
   },
   "outputs": [
    {
     "data": {
      "text/plain": [
       "<AxesSubplot:xlabel='product_2\\nsoan_ papdi\\n(Kg)'>"
      ]
     },
     "execution_count": 18,
     "metadata": {},
     "output_type": "execute_result"
    },
    {
     "data": {
      "image/png": "[encoded data removed]",
      "text/plain": [
       "<Figure size 432x288 with 1 Axes>"
      ]
     },
     "metadata": {
      "needs_background": "light"
     },
     "output_type": "display_data"
    }
   ],
   "source": [
    "sns.boxplot(x='product_2\\nsoan_ papdi\\n(Kg)',data = df)"
   ]
  },
  {
   "cell_type": "code",
   "execution_count": 21,
   "id": "af4d6161",
   "metadata": {},
   "outputs": [
    {
     "data": {
      "text/plain": [
       "<AxesSubplot:xlabel='product_3\\nmotichoor_ chaknachoor\\n(Kg)'>"
      ]
     },
     "execution_count": 21,
     "metadata": {},
     "output_type": "execute_result"
    },
    {
     "data": {
      "image/png": "[encoded data removed]",
      "text/plain": [
       "<Figure size 432x288 with 1 Axes>"
      ]
     },
     "metadata": {
      "needs_background": "light"
     },
     "output_type": "display_data"
    }
   ],
   "source": [
    "sns.boxplot(x='product_3\\nmotichoor_ chaknachoor\\n(Kg)',data = df)"
   ]
  },
  {
   "cell_type": "code",
   "execution_count": 22,
   "id": "a73332b9",
   "metadata": {},
   "outputs": [
    {
     "data": {
      "text/plain": [
       "<AxesSubplot:xlabel='product_4\\nkaju_barfi\\n(Kg)'>"
      ]
     },
     "execution_count": 22,
     "metadata": {},
     "output_type": "execute_result"
    },
    {
     "data": {
      "image/png": "[encoded data removed]",
      "text/plain": [
       "<Figure size 432x288 with 1 Axes>"
      ]
     },
     "metadata": {
      "needs_background": "light"
     },
     "output_type": "display_data"
    }
   ],
   "source": [
    "sns.boxplot(x='product_4\\nkaju_barfi\\n(Kg)',data = df)"
   ]
  },
  {
   "cell_type": "code",
   "execution_count": 23,
   "id": "32c65e90",
   "metadata": {
    "executionInfo": {
     "elapsed": 129,
     "status": "ok",
     "timestamp": 1652851742349,
     "user": {
      "displayName": "Aniketh H",
      "userId": "11737461681111421407"
     },
     "user_tz": -330
    },
    "id": "32c65e90"
   },
   "outputs": [],
   "source": [
    "# note :- all the data has outliers but in this we need outliers \n",
    "df.drop('user_id',axis = 1,inplace = True)"
   ]
  },
  {
   "cell_type": "code",
   "execution_count": 24,
   "id": "2b3416ce",
   "metadata": {
    "executionInfo": {
     "elapsed": 127,
     "status": "ok",
     "timestamp": 1652851742349,
     "user": {
      "displayName": "Aniketh H",
      "userId": "11737461681111421407"
     },
     "user_tz": -330
    },
    "id": "2b3416ce"
   },
   "outputs": [],
   "source": [
    "df.drop('sl_no',axis = 1,inplace = True)"
   ]
  },
  {
   "cell_type": "code",
   "execution_count": 25,
   "id": "62cca580",
   "metadata": {
    "colab": {
     "base_uri": "https://localhost:8080/",
     "height": 288
    },
    "executionInfo": {
     "elapsed": 126,
     "status": "ok",
     "timestamp": 1652851742350,
     "user": {
      "displayName": "Aniketh H",
      "userId": "11737461681111421407"
     },
     "user_tz": -330
    },
    "id": "62cca580",
    "outputId": "de6522a4-81e1-4451-f685-7f32aecc33b0",
    "scrolled": true
   },
   "outputs": [
    {
     "data": {
      "text/html": [
       "<div>\n",
       "<style scoped>\n",
       "    .dataframe tbody tr th:only-of-type {\n",
       "        vertical-align: middle;\n",
       "    }\n",
       "\n",
       "    .dataframe tbody tr th {\n",
       "        vertical-align: top;\n",
       "    }\n",
       "\n",
       "    .dataframe thead th {\n",
       "        text-align: right;\n",
       "    }\n",
       "</style>\n",
       "<table border=\"1\" class=\"dataframe\">\n",
       "  <thead>\n",
       "    <tr style=\"text-align: right;\">\n",
       "      <th></th>\n",
       "      <th>city</th>\n",
       "      <th>product_1\\nmysore_pak\\n(Kg)</th>\n",
       "      <th>product_2\\nsoan_ papdi\\n(Kg)</th>\n",
       "      <th>product_3\\nmotichoor_ chaknachoor\\n(Kg)</th>\n",
       "      <th>product_4\\nkaju_barfi\\n(Kg)</th>\n",
       "      <th>amont_1\\nmysore_pak</th>\n",
       "      <th>amount_2\\nsona_padi</th>\n",
       "      <th>amount_3\\nmotichoor_ chaknachoor</th>\n",
       "      <th>amount_4\\nkaju_barfi</th>\n",
       "      <th>total_amount</th>\n",
       "    </tr>\n",
       "  </thead>\n",
       "  <tbody>\n",
       "    <tr>\n",
       "      <th>0</th>\n",
       "      <td>BENGALURU</td>\n",
       "      <td>0.1</td>\n",
       "      <td>1.5</td>\n",
       "      <td>0.0</td>\n",
       "      <td>0.0</td>\n",
       "      <td>70</td>\n",
       "      <td>1125</td>\n",
       "      <td>0</td>\n",
       "      <td>0</td>\n",
       "      <td>1195</td>\n",
       "    </tr>\n",
       "    <tr>\n",
       "      <th>1</th>\n",
       "      <td>BENGALURU</td>\n",
       "      <td>1.5</td>\n",
       "      <td>0.0</td>\n",
       "      <td>1.5</td>\n",
       "      <td>2.5</td>\n",
       "      <td>1050</td>\n",
       "      <td>0</td>\n",
       "      <td>1200</td>\n",
       "      <td>3000</td>\n",
       "      <td>5250</td>\n",
       "    </tr>\n",
       "    <tr>\n",
       "      <th>2</th>\n",
       "      <td>BENGALURU</td>\n",
       "      <td>0.0</td>\n",
       "      <td>0.0</td>\n",
       "      <td>0.2</td>\n",
       "      <td>0.0</td>\n",
       "      <td>0</td>\n",
       "      <td>0</td>\n",
       "      <td>160</td>\n",
       "      <td>0</td>\n",
       "      <td>160</td>\n",
       "    </tr>\n",
       "    <tr>\n",
       "      <th>3</th>\n",
       "      <td>BENGALURU</td>\n",
       "      <td>2.0</td>\n",
       "      <td>0.0</td>\n",
       "      <td>0.2</td>\n",
       "      <td>0.0</td>\n",
       "      <td>1400</td>\n",
       "      <td>0</td>\n",
       "      <td>160</td>\n",
       "      <td>0</td>\n",
       "      <td>1560</td>\n",
       "    </tr>\n",
       "    <tr>\n",
       "      <th>4</th>\n",
       "      <td>BENGALURU</td>\n",
       "      <td>0.0</td>\n",
       "      <td>0.5</td>\n",
       "      <td>1.0</td>\n",
       "      <td>0.0</td>\n",
       "      <td>0</td>\n",
       "      <td>375</td>\n",
       "      <td>800</td>\n",
       "      <td>0</td>\n",
       "      <td>1175</td>\n",
       "    </tr>\n",
       "  </tbody>\n",
       "</table>\n",
       "</div>"
      ],
      "text/plain": [
       "        city  product_1\\nmysore_pak\\n(Kg)  product_2\\nsoan_ papdi\\n(Kg)  \\\n",
       "0  BENGALURU                          0.1                           1.5   \n",
       "1  BENGALURU                          1.5                           0.0   \n",
       "2  BENGALURU                          0.0                           0.0   \n",
       "3  BENGALURU                          2.0                           0.0   \n",
       "4  BENGALURU                          0.0                           0.5   \n",
       "\n",
       "   product_3\\nmotichoor_ chaknachoor\\n(Kg)  product_4\\nkaju_barfi\\n(Kg)  \\\n",
       "0                                      0.0                          0.0   \n",
       "1                                      1.5                          2.5   \n",
       "2                                      0.2                          0.0   \n",
       "3                                      0.2                          0.0   \n",
       "4                                      1.0                          0.0   \n",
       "\n",
       "    amont_1\\nmysore_pak    amount_2\\nsona_padi   \\\n",
       "0                     70                   1125   \n",
       "1                   1050                      0   \n",
       "2                      0                      0   \n",
       "3                   1400                      0   \n",
       "4                      0                    375   \n",
       "\n",
       "   amount_3\\nmotichoor_ chaknachoor   amount_4\\nkaju_barfi  total_amount  \n",
       "0                                  0                     0          1195  \n",
       "1                               1200                  3000          5250  \n",
       "2                                160                     0           160  \n",
       "3                                160                     0          1560  \n",
       "4                                800                     0          1175  "
      ]
     },
     "execution_count": 25,
     "metadata": {},
     "output_type": "execute_result"
    }
   ],
   "source": [
    "df.head()"
   ]
  },
  {
   "cell_type": "code",
   "execution_count": 26,
   "id": "a2ca8487",
   "metadata": {
    "colab": {
     "base_uri": "https://localhost:8080/"
    },
    "executionInfo": {
     "elapsed": 124,
     "status": "ok",
     "timestamp": 1652851742352,
     "user": {
      "displayName": "Aniketh H",
      "userId": "11737461681111421407"
     },
     "user_tz": -330
    },
    "id": "a2ca8487",
    "outputId": "19b88260-bf82-462e-8394-2ba496078707"
   },
   "outputs": [
    {
     "data": {
      "text/plain": [
       "array(['BENGALURU', 'MYSURU', 'BELAGAVI', 'HUBLI'], dtype=object)"
      ]
     },
     "execution_count": 26,
     "metadata": {},
     "output_type": "execute_result"
    }
   ],
   "source": [
    "df.city.unique()"
   ]
  },
  {
   "cell_type": "code",
   "execution_count": 27,
   "id": "283a0a5a",
   "metadata": {
    "executionInfo": {
     "elapsed": 114,
     "status": "ok",
     "timestamp": 1652851742352,
     "user": {
      "displayName": "Aniketh H",
      "userId": "11737461681111421407"
     },
     "user_tz": -330
    },
    "id": "283a0a5a"
   },
   "outputs": [],
   "source": [
    "df.city = df.city.map({'BENGALURU':1,'MYSURU':2,'BELAGAVI':3,'HUBLI':4})"
   ]
  },
  {
   "cell_type": "code",
   "execution_count": 28,
   "id": "84786372",
   "metadata": {},
   "outputs": [],
   "source": [
    "df.drop('city',axis = 1,inplace = True)"
   ]
  },
  {
   "cell_type": "code",
   "execution_count": 29,
   "id": "92f84b1c",
   "metadata": {
    "colab": {
     "base_uri": "https://localhost:8080/",
     "height": 288
    },
    "executionInfo": {
     "elapsed": 114,
     "status": "ok",
     "timestamp": 1652851742353,
     "user": {
      "displayName": "Aniketh H",
      "userId": "11737461681111421407"
     },
     "user_tz": -330
    },
    "id": "92f84b1c",
    "outputId": "def3c209-c065-4fea-afb6-9f01e079fbd8"
   },
   "outputs": [
    {
     "data": {
      "text/html": [
       "<div>\n",
       "<style scoped>\n",
       "    .dataframe tbody tr th:only-of-type {\n",
       "        vertical-align: middle;\n",
       "    }\n",
       "\n",
       "    .dataframe tbody tr th {\n",
       "        vertical-align: top;\n",
       "    }\n",
       "\n",
       "    .dataframe thead th {\n",
       "        text-align: right;\n",
       "    }\n",
       "</style>\n",
       "<table border=\"1\" class=\"dataframe\">\n",
       "  <thead>\n",
       "    <tr style=\"text-align: right;\">\n",
       "      <th></th>\n",
       "      <th>product_1\\nmysore_pak\\n(Kg)</th>\n",
       "      <th>product_2\\nsoan_ papdi\\n(Kg)</th>\n",
       "      <th>product_3\\nmotichoor_ chaknachoor\\n(Kg)</th>\n",
       "      <th>product_4\\nkaju_barfi\\n(Kg)</th>\n",
       "      <th>amont_1\\nmysore_pak</th>\n",
       "      <th>amount_2\\nsona_padi</th>\n",
       "      <th>amount_3\\nmotichoor_ chaknachoor</th>\n",
       "      <th>amount_4\\nkaju_barfi</th>\n",
       "      <th>total_amount</th>\n",
       "    </tr>\n",
       "  </thead>\n",
       "  <tbody>\n",
       "    <tr>\n",
       "      <th>0</th>\n",
       "      <td>0.1</td>\n",
       "      <td>1.5</td>\n",
       "      <td>0.0</td>\n",
       "      <td>0.0</td>\n",
       "      <td>70</td>\n",
       "      <td>1125</td>\n",
       "      <td>0</td>\n",
       "      <td>0</td>\n",
       "      <td>1195</td>\n",
       "    </tr>\n",
       "    <tr>\n",
       "      <th>1</th>\n",
       "      <td>1.5</td>\n",
       "      <td>0.0</td>\n",
       "      <td>1.5</td>\n",
       "      <td>2.5</td>\n",
       "      <td>1050</td>\n",
       "      <td>0</td>\n",
       "      <td>1200</td>\n",
       "      <td>3000</td>\n",
       "      <td>5250</td>\n",
       "    </tr>\n",
       "    <tr>\n",
       "      <th>2</th>\n",
       "      <td>0.0</td>\n",
       "      <td>0.0</td>\n",
       "      <td>0.2</td>\n",
       "      <td>0.0</td>\n",
       "      <td>0</td>\n",
       "      <td>0</td>\n",
       "      <td>160</td>\n",
       "      <td>0</td>\n",
       "      <td>160</td>\n",
       "    </tr>\n",
       "    <tr>\n",
       "      <th>3</th>\n",
       "      <td>2.0</td>\n",
       "      <td>0.0</td>\n",
       "      <td>0.2</td>\n",
       "      <td>0.0</td>\n",
       "      <td>1400</td>\n",
       "      <td>0</td>\n",
       "      <td>160</td>\n",
       "      <td>0</td>\n",
       "      <td>1560</td>\n",
       "    </tr>\n",
       "    <tr>\n",
       "      <th>4</th>\n",
       "      <td>0.0</td>\n",
       "      <td>0.5</td>\n",
       "      <td>1.0</td>\n",
       "      <td>0.0</td>\n",
       "      <td>0</td>\n",
       "      <td>375</td>\n",
       "      <td>800</td>\n",
       "      <td>0</td>\n",
       "      <td>1175</td>\n",
       "    </tr>\n",
       "  </tbody>\n",
       "</table>\n",
       "</div>"
      ],
      "text/plain": [
       "   product_1\\nmysore_pak\\n(Kg)  product_2\\nsoan_ papdi\\n(Kg)  \\\n",
       "0                          0.1                           1.5   \n",
       "1                          1.5                           0.0   \n",
       "2                          0.0                           0.0   \n",
       "3                          2.0                           0.0   \n",
       "4                          0.0                           0.5   \n",
       "\n",
       "   product_3\\nmotichoor_ chaknachoor\\n(Kg)  product_4\\nkaju_barfi\\n(Kg)  \\\n",
       "0                                      0.0                          0.0   \n",
       "1                                      1.5                          2.5   \n",
       "2                                      0.2                          0.0   \n",
       "3                                      0.2                          0.0   \n",
       "4                                      1.0                          0.0   \n",
       "\n",
       "    amont_1\\nmysore_pak    amount_2\\nsona_padi   \\\n",
       "0                     70                   1125   \n",
       "1                   1050                      0   \n",
       "2                      0                      0   \n",
       "3                   1400                      0   \n",
       "4                      0                    375   \n",
       "\n",
       "   amount_3\\nmotichoor_ chaknachoor   amount_4\\nkaju_barfi  total_amount  \n",
       "0                                  0                     0          1195  \n",
       "1                               1200                  3000          5250  \n",
       "2                                160                     0           160  \n",
       "3                                160                     0          1560  \n",
       "4                                800                     0          1175  "
      ]
     },
     "execution_count": 29,
     "metadata": {},
     "output_type": "execute_result"
    }
   ],
   "source": [
    "df.head(5)"
   ]
  },
  {
   "cell_type": "code",
   "execution_count": 30,
   "id": "6ac5d8b0",
   "metadata": {
    "executionInfo": {
     "elapsed": 109,
     "status": "ok",
     "timestamp": 1652851742355,
     "user": {
      "displayName": "Aniketh H",
      "userId": "11737461681111421407"
     },
     "user_tz": -330
    },
    "id": "6ac5d8b0"
   },
   "outputs": [],
   "source": [
    "X= df.iloc[:,:-1]"
   ]
  },
  {
   "cell_type": "code",
   "execution_count": 31,
   "id": "8d914009",
   "metadata": {
    "colab": {
     "base_uri": "https://localhost:8080/",
     "height": 505
    },
    "executionInfo": {
     "elapsed": 109,
     "status": "ok",
     "timestamp": 1652851742355,
     "user": {
      "displayName": "Aniketh H",
      "userId": "11737461681111421407"
     },
     "user_tz": -330
    },
    "id": "8d914009",
    "outputId": "50ac2a9e-d8e2-4ff1-87fd-d9a758837c37"
   },
   "outputs": [
    {
     "data": {
      "text/html": [
       "<div>\n",
       "<style scoped>\n",
       "    .dataframe tbody tr th:only-of-type {\n",
       "        vertical-align: middle;\n",
       "    }\n",
       "\n",
       "    .dataframe tbody tr th {\n",
       "        vertical-align: top;\n",
       "    }\n",
       "\n",
       "    .dataframe thead th {\n",
       "        text-align: right;\n",
       "    }\n",
       "</style>\n",
       "<table border=\"1\" class=\"dataframe\">\n",
       "  <thead>\n",
       "    <tr style=\"text-align: right;\">\n",
       "      <th></th>\n",
       "      <th>product_1\\nmysore_pak\\n(Kg)</th>\n",
       "      <th>product_2\\nsoan_ papdi\\n(Kg)</th>\n",
       "      <th>product_3\\nmotichoor_ chaknachoor\\n(Kg)</th>\n",
       "      <th>product_4\\nkaju_barfi\\n(Kg)</th>\n",
       "      <th>amont_1\\nmysore_pak</th>\n",
       "      <th>amount_2\\nsona_padi</th>\n",
       "      <th>amount_3\\nmotichoor_ chaknachoor</th>\n",
       "      <th>amount_4\\nkaju_barfi</th>\n",
       "    </tr>\n",
       "  </thead>\n",
       "  <tbody>\n",
       "    <tr>\n",
       "      <th>0</th>\n",
       "      <td>0.1</td>\n",
       "      <td>1.5</td>\n",
       "      <td>0.0</td>\n",
       "      <td>0.0</td>\n",
       "      <td>70</td>\n",
       "      <td>1125</td>\n",
       "      <td>0</td>\n",
       "      <td>0</td>\n",
       "    </tr>\n",
       "    <tr>\n",
       "      <th>1</th>\n",
       "      <td>1.5</td>\n",
       "      <td>0.0</td>\n",
       "      <td>1.5</td>\n",
       "      <td>2.5</td>\n",
       "      <td>1050</td>\n",
       "      <td>0</td>\n",
       "      <td>1200</td>\n",
       "      <td>3000</td>\n",
       "    </tr>\n",
       "    <tr>\n",
       "      <th>2</th>\n",
       "      <td>0.0</td>\n",
       "      <td>0.0</td>\n",
       "      <td>0.2</td>\n",
       "      <td>0.0</td>\n",
       "      <td>0</td>\n",
       "      <td>0</td>\n",
       "      <td>160</td>\n",
       "      <td>0</td>\n",
       "    </tr>\n",
       "    <tr>\n",
       "      <th>3</th>\n",
       "      <td>2.0</td>\n",
       "      <td>0.0</td>\n",
       "      <td>0.2</td>\n",
       "      <td>0.0</td>\n",
       "      <td>1400</td>\n",
       "      <td>0</td>\n",
       "      <td>160</td>\n",
       "      <td>0</td>\n",
       "    </tr>\n",
       "    <tr>\n",
       "      <th>4</th>\n",
       "      <td>0.0</td>\n",
       "      <td>0.5</td>\n",
       "      <td>1.0</td>\n",
       "      <td>0.0</td>\n",
       "      <td>0</td>\n",
       "      <td>375</td>\n",
       "      <td>800</td>\n",
       "      <td>0</td>\n",
       "    </tr>\n",
       "    <tr>\n",
       "      <th>...</th>\n",
       "      <td>...</td>\n",
       "      <td>...</td>\n",
       "      <td>...</td>\n",
       "      <td>...</td>\n",
       "      <td>...</td>\n",
       "      <td>...</td>\n",
       "      <td>...</td>\n",
       "      <td>...</td>\n",
       "    </tr>\n",
       "    <tr>\n",
       "      <th>995</th>\n",
       "      <td>0.0</td>\n",
       "      <td>0.5</td>\n",
       "      <td>0.0</td>\n",
       "      <td>0.0</td>\n",
       "      <td>0</td>\n",
       "      <td>375</td>\n",
       "      <td>0</td>\n",
       "      <td>0</td>\n",
       "    </tr>\n",
       "    <tr>\n",
       "      <th>996</th>\n",
       "      <td>1.0</td>\n",
       "      <td>1.5</td>\n",
       "      <td>0.0</td>\n",
       "      <td>0.0</td>\n",
       "      <td>700</td>\n",
       "      <td>1125</td>\n",
       "      <td>0</td>\n",
       "      <td>0</td>\n",
       "    </tr>\n",
       "    <tr>\n",
       "      <th>997</th>\n",
       "      <td>1.5</td>\n",
       "      <td>1.5</td>\n",
       "      <td>0.2</td>\n",
       "      <td>0.0</td>\n",
       "      <td>1050</td>\n",
       "      <td>1125</td>\n",
       "      <td>160</td>\n",
       "      <td>0</td>\n",
       "    </tr>\n",
       "    <tr>\n",
       "      <th>998</th>\n",
       "      <td>0.0</td>\n",
       "      <td>0.2</td>\n",
       "      <td>0.0</td>\n",
       "      <td>0.5</td>\n",
       "      <td>0</td>\n",
       "      <td>150</td>\n",
       "      <td>0</td>\n",
       "      <td>600</td>\n",
       "    </tr>\n",
       "    <tr>\n",
       "      <th>999</th>\n",
       "      <td>0.0</td>\n",
       "      <td>0.2</td>\n",
       "      <td>0.5</td>\n",
       "      <td>0.0</td>\n",
       "      <td>0</td>\n",
       "      <td>150</td>\n",
       "      <td>400</td>\n",
       "      <td>0</td>\n",
       "    </tr>\n",
       "  </tbody>\n",
       "</table>\n",
       "<p>1000 rows × 8 columns</p>\n",
       "</div>"
      ],
      "text/plain": [
       "     product_1\\nmysore_pak\\n(Kg)  product_2\\nsoan_ papdi\\n(Kg)  \\\n",
       "0                            0.1                           1.5   \n",
       "1                            1.5                           0.0   \n",
       "2                            0.0                           0.0   \n",
       "3                            2.0                           0.0   \n",
       "4                            0.0                           0.5   \n",
       "..                           ...                           ...   \n",
       "995                          0.0                           0.5   \n",
       "996                          1.0                           1.5   \n",
       "997                          1.5                           1.5   \n",
       "998                          0.0                           0.2   \n",
       "999                          0.0                           0.2   \n",
       "\n",
       "     product_3\\nmotichoor_ chaknachoor\\n(Kg)  product_4\\nkaju_barfi\\n(Kg)  \\\n",
       "0                                        0.0                          0.0   \n",
       "1                                        1.5                          2.5   \n",
       "2                                        0.2                          0.0   \n",
       "3                                        0.2                          0.0   \n",
       "4                                        1.0                          0.0   \n",
       "..                                       ...                          ...   \n",
       "995                                      0.0                          0.0   \n",
       "996                                      0.0                          0.0   \n",
       "997                                      0.2                          0.0   \n",
       "998                                      0.0                          0.5   \n",
       "999                                      0.5                          0.0   \n",
       "\n",
       "      amont_1\\nmysore_pak    amount_2\\nsona_padi   \\\n",
       "0                       70                   1125   \n",
       "1                     1050                      0   \n",
       "2                        0                      0   \n",
       "3                     1400                      0   \n",
       "4                        0                    375   \n",
       "..                     ...                    ...   \n",
       "995                      0                    375   \n",
       "996                    700                   1125   \n",
       "997                   1050                   1125   \n",
       "998                      0                    150   \n",
       "999                      0                    150   \n",
       "\n",
       "     amount_3\\nmotichoor_ chaknachoor   amount_4\\nkaju_barfi  \n",
       "0                                    0                     0  \n",
       "1                                 1200                  3000  \n",
       "2                                  160                     0  \n",
       "3                                  160                     0  \n",
       "4                                  800                     0  \n",
       "..                                 ...                   ...  \n",
       "995                                  0                     0  \n",
       "996                                  0                     0  \n",
       "997                                160                     0  \n",
       "998                                  0                   600  \n",
       "999                                400                     0  \n",
       "\n",
       "[1000 rows x 8 columns]"
      ]
     },
     "execution_count": 31,
     "metadata": {},
     "output_type": "execute_result"
    }
   ],
   "source": [
    "X"
   ]
  },
  {
   "cell_type": "code",
   "execution_count": 32,
   "id": "732f725b",
   "metadata": {
    "executionInfo": {
     "elapsed": 108,
     "status": "ok",
     "timestamp": 1652851742356,
     "user": {
      "displayName": "Aniketh H",
      "userId": "11737461681111421407"
     },
     "user_tz": -330
    },
    "id": "732f725b"
   },
   "outputs": [],
   "source": [
    "y = df.iloc[:,-1]"
   ]
  },
  {
   "cell_type": "code",
   "execution_count": 33,
   "id": "0cbb8db3",
   "metadata": {
    "colab": {
     "base_uri": "https://localhost:8080/"
    },
    "executionInfo": {
     "elapsed": 109,
     "status": "ok",
     "timestamp": 1652851742357,
     "user": {
      "displayName": "Aniketh H",
      "userId": "11737461681111421407"
     },
     "user_tz": -330
    },
    "id": "0cbb8db3",
    "outputId": "d9903288-c19e-46c2-9c6e-88bc4ca27bcb"
   },
   "outputs": [
    {
     "data": {
      "text/plain": [
       "0      1195\n",
       "1      5250\n",
       "2       160\n",
       "3      1560\n",
       "4      1175\n",
       "       ... \n",
       "995     375\n",
       "996    1825\n",
       "997    2335\n",
       "998     750\n",
       "999     550\n",
       "Name: total_amount, Length: 1000, dtype: int64"
      ]
     },
     "execution_count": 33,
     "metadata": {},
     "output_type": "execute_result"
    }
   ],
   "source": [
    "y"
   ]
  },
  {
   "cell_type": "code",
   "execution_count": 34,
   "id": "95a31c57",
   "metadata": {
    "executionInfo": {
     "elapsed": 105,
     "status": "ok",
     "timestamp": 1652851742357,
     "user": {
      "displayName": "Aniketh H",
      "userId": "11737461681111421407"
     },
     "user_tz": -330
    },
    "id": "95a31c57"
   },
   "outputs": [],
   "source": [
    "from sklearn.model_selection import train_test_split\n",
    "x_train,x_test,y_train,y_test = train_test_split(X,y,test_size = 0.25,random_state = 42)"
   ]
  },
  {
   "cell_type": "code",
   "execution_count": 35,
   "id": "71e6eff8",
   "metadata": {},
   "outputs": [
    {
     "data": {
      "text/html": [
       "<div>\n",
       "<style scoped>\n",
       "    .dataframe tbody tr th:only-of-type {\n",
       "        vertical-align: middle;\n",
       "    }\n",
       "\n",
       "    .dataframe tbody tr th {\n",
       "        vertical-align: top;\n",
       "    }\n",
       "\n",
       "    .dataframe thead th {\n",
       "        text-align: right;\n",
       "    }\n",
       "</style>\n",
       "<table border=\"1\" class=\"dataframe\">\n",
       "  <thead>\n",
       "    <tr style=\"text-align: right;\">\n",
       "      <th></th>\n",
       "      <th>product_1\\nmysore_pak\\n(Kg)</th>\n",
       "      <th>product_2\\nsoan_ papdi\\n(Kg)</th>\n",
       "      <th>product_3\\nmotichoor_ chaknachoor\\n(Kg)</th>\n",
       "      <th>product_4\\nkaju_barfi\\n(Kg)</th>\n",
       "      <th>amont_1\\nmysore_pak</th>\n",
       "      <th>amount_2\\nsona_padi</th>\n",
       "      <th>amount_3\\nmotichoor_ chaknachoor</th>\n",
       "      <th>amount_4\\nkaju_barfi</th>\n",
       "    </tr>\n",
       "  </thead>\n",
       "  <tbody>\n",
       "    <tr>\n",
       "      <th>521</th>\n",
       "      <td>0.0</td>\n",
       "      <td>0.5</td>\n",
       "      <td>0.0</td>\n",
       "      <td>7.0</td>\n",
       "      <td>0</td>\n",
       "      <td>375</td>\n",
       "      <td>0</td>\n",
       "      <td>8400</td>\n",
       "    </tr>\n",
       "    <tr>\n",
       "      <th>737</th>\n",
       "      <td>0.2</td>\n",
       "      <td>0.0</td>\n",
       "      <td>0.5</td>\n",
       "      <td>1.0</td>\n",
       "      <td>140</td>\n",
       "      <td>0</td>\n",
       "      <td>400</td>\n",
       "      <td>1200</td>\n",
       "    </tr>\n",
       "    <tr>\n",
       "      <th>740</th>\n",
       "      <td>0.0</td>\n",
       "      <td>0.0</td>\n",
       "      <td>0.2</td>\n",
       "      <td>0.0</td>\n",
       "      <td>0</td>\n",
       "      <td>0</td>\n",
       "      <td>160</td>\n",
       "      <td>0</td>\n",
       "    </tr>\n",
       "    <tr>\n",
       "      <th>660</th>\n",
       "      <td>0.2</td>\n",
       "      <td>1.0</td>\n",
       "      <td>2.5</td>\n",
       "      <td>3.0</td>\n",
       "      <td>140</td>\n",
       "      <td>750</td>\n",
       "      <td>2000</td>\n",
       "      <td>3600</td>\n",
       "    </tr>\n",
       "    <tr>\n",
       "      <th>411</th>\n",
       "      <td>0.0</td>\n",
       "      <td>0.5</td>\n",
       "      <td>0.2</td>\n",
       "      <td>1.0</td>\n",
       "      <td>0</td>\n",
       "      <td>375</td>\n",
       "      <td>160</td>\n",
       "      <td>1200</td>\n",
       "    </tr>\n",
       "    <tr>\n",
       "      <th>...</th>\n",
       "      <td>...</td>\n",
       "      <td>...</td>\n",
       "      <td>...</td>\n",
       "      <td>...</td>\n",
       "      <td>...</td>\n",
       "      <td>...</td>\n",
       "      <td>...</td>\n",
       "      <td>...</td>\n",
       "    </tr>\n",
       "    <tr>\n",
       "      <th>109</th>\n",
       "      <td>0.5</td>\n",
       "      <td>1.0</td>\n",
       "      <td>2.0</td>\n",
       "      <td>0.0</td>\n",
       "      <td>350</td>\n",
       "      <td>750</td>\n",
       "      <td>1600</td>\n",
       "      <td>0</td>\n",
       "    </tr>\n",
       "    <tr>\n",
       "      <th>430</th>\n",
       "      <td>0.2</td>\n",
       "      <td>0.5</td>\n",
       "      <td>1.0</td>\n",
       "      <td>1.0</td>\n",
       "      <td>140</td>\n",
       "      <td>375</td>\n",
       "      <td>800</td>\n",
       "      <td>1200</td>\n",
       "    </tr>\n",
       "    <tr>\n",
       "      <th>77</th>\n",
       "      <td>0.0</td>\n",
       "      <td>0.0</td>\n",
       "      <td>0.0</td>\n",
       "      <td>5.0</td>\n",
       "      <td>0</td>\n",
       "      <td>0</td>\n",
       "      <td>0</td>\n",
       "      <td>6000</td>\n",
       "    </tr>\n",
       "    <tr>\n",
       "      <th>84</th>\n",
       "      <td>0.0</td>\n",
       "      <td>0.0</td>\n",
       "      <td>0.0</td>\n",
       "      <td>5.0</td>\n",
       "      <td>0</td>\n",
       "      <td>0</td>\n",
       "      <td>0</td>\n",
       "      <td>6000</td>\n",
       "    </tr>\n",
       "    <tr>\n",
       "      <th>286</th>\n",
       "      <td>0.0</td>\n",
       "      <td>0.0</td>\n",
       "      <td>0.0</td>\n",
       "      <td>1.0</td>\n",
       "      <td>0</td>\n",
       "      <td>0</td>\n",
       "      <td>0</td>\n",
       "      <td>1200</td>\n",
       "    </tr>\n",
       "  </tbody>\n",
       "</table>\n",
       "<p>250 rows × 8 columns</p>\n",
       "</div>"
      ],
      "text/plain": [
       "     product_1\\nmysore_pak\\n(Kg)  product_2\\nsoan_ papdi\\n(Kg)  \\\n",
       "521                          0.0                           0.5   \n",
       "737                          0.2                           0.0   \n",
       "740                          0.0                           0.0   \n",
       "660                          0.2                           1.0   \n",
       "411                          0.0                           0.5   \n",
       "..                           ...                           ...   \n",
       "109                          0.5                           1.0   \n",
       "430                          0.2                           0.5   \n",
       "77                           0.0                           0.0   \n",
       "84                           0.0                           0.0   \n",
       "286                          0.0                           0.0   \n",
       "\n",
       "     product_3\\nmotichoor_ chaknachoor\\n(Kg)  product_4\\nkaju_barfi\\n(Kg)  \\\n",
       "521                                      0.0                          7.0   \n",
       "737                                      0.5                          1.0   \n",
       "740                                      0.2                          0.0   \n",
       "660                                      2.5                          3.0   \n",
       "411                                      0.2                          1.0   \n",
       "..                                       ...                          ...   \n",
       "109                                      2.0                          0.0   \n",
       "430                                      1.0                          1.0   \n",
       "77                                       0.0                          5.0   \n",
       "84                                       0.0                          5.0   \n",
       "286                                      0.0                          1.0   \n",
       "\n",
       "      amont_1\\nmysore_pak    amount_2\\nsona_padi   \\\n",
       "521                      0                    375   \n",
       "737                    140                      0   \n",
       "740                      0                      0   \n",
       "660                    140                    750   \n",
       "411                      0                    375   \n",
       "..                     ...                    ...   \n",
       "109                    350                    750   \n",
       "430                    140                    375   \n",
       "77                       0                      0   \n",
       "84                       0                      0   \n",
       "286                      0                      0   \n",
       "\n",
       "     amount_3\\nmotichoor_ chaknachoor   amount_4\\nkaju_barfi  \n",
       "521                                  0                  8400  \n",
       "737                                400                  1200  \n",
       "740                                160                     0  \n",
       "660                               2000                  3600  \n",
       "411                                160                  1200  \n",
       "..                                 ...                   ...  \n",
       "109                               1600                     0  \n",
       "430                                800                  1200  \n",
       "77                                   0                  6000  \n",
       "84                                   0                  6000  \n",
       "286                                  0                  1200  \n",
       "\n",
       "[250 rows x 8 columns]"
      ]
     },
     "execution_count": 35,
     "metadata": {},
     "output_type": "execute_result"
    }
   ],
   "source": [
    "x_test"
   ]
  },
  {
   "cell_type": "code",
   "execution_count": 36,
   "id": "e88bc5d6",
   "metadata": {
    "executionInfo": {
     "elapsed": 86,
     "status": "ok",
     "timestamp": 1652851742365,
     "user": {
      "displayName": "Aniketh H",
      "userId": "11737461681111421407"
     },
     "user_tz": -330
    },
    "id": "e88bc5d6"
   },
   "outputs": [],
   "source": [
    "from sklearn.ensemble import RandomForestRegressor"
   ]
  },
  {
   "cell_type": "code",
   "execution_count": 37,
   "id": "44dbfff9",
   "metadata": {
    "executionInfo": {
     "elapsed": 86,
     "status": "ok",
     "timestamp": 1652851742365,
     "user": {
      "displayName": "Aniketh H",
      "userId": "11737461681111421407"
     },
     "user_tz": -330
    },
    "id": "44dbfff9"
   },
   "outputs": [],
   "source": [
    "rf = RandomForestRegressor()"
   ]
  },
  {
   "cell_type": "code",
   "execution_count": 38,
   "id": "dd539f76",
   "metadata": {
    "colab": {
     "base_uri": "https://localhost:8080/"
    },
    "executionInfo": {
     "elapsed": 86,
     "status": "ok",
     "timestamp": 1652851742366,
     "user": {
      "displayName": "Aniketh H",
      "userId": "11737461681111421407"
     },
     "user_tz": -330
    },
    "id": "dd539f76",
    "outputId": "14458aa8-d248-418e-fb66-52059d60713c"
   },
   "outputs": [
    {
     "data": {
      "text/plain": [
       "RandomForestRegressor()"
      ]
     },
     "execution_count": 38,
     "metadata": {},
     "output_type": "execute_result"
    }
   ],
   "source": [
    "rf.fit(x_train,y_train)"
   ]
  },
  {
   "cell_type": "code",
   "execution_count": 39,
   "id": "acc28618",
   "metadata": {
    "executionInfo": {
     "elapsed": 85,
     "status": "ok",
     "timestamp": 1652851742367,
     "user": {
      "displayName": "Aniketh H",
      "userId": "11737461681111421407"
     },
     "user_tz": -330
    },
    "id": "acc28618"
   },
   "outputs": [],
   "source": [
    "ypred = rf.predict(x_test)"
   ]
  },
  {
   "cell_type": "code",
   "execution_count": 40,
   "id": "ee65b61d",
   "metadata": {
    "colab": {
     "base_uri": "https://localhost:8080/"
    },
    "executionInfo": {
     "elapsed": 85,
     "status": "ok",
     "timestamp": 1652851742367,
     "user": {
      "displayName": "Aniketh H",
      "userId": "11737461681111421407"
     },
     "user_tz": -330
    },
    "id": "ee65b61d",
    "outputId": "255a70b0-fd27-4920-ac36-4d74145b900a"
   },
   "outputs": [
    {
     "data": {
      "text/plain": [
       "0.9917864812390305"
      ]
     },
     "execution_count": 40,
     "metadata": {},
     "output_type": "execute_result"
    }
   ],
   "source": [
    "rf.score(x_train,y_train)"
   ]
  },
  {
   "cell_type": "code",
   "execution_count": 41,
   "id": "fbb19ba3",
   "metadata": {
    "colab": {
     "base_uri": "https://localhost:8080/"
    },
    "executionInfo": {
     "elapsed": 84,
     "status": "ok",
     "timestamp": 1652851742368,
     "user": {
      "displayName": "Aniketh H",
      "userId": "11737461681111421407"
     },
     "user_tz": -330
    },
    "id": "fbb19ba3",
    "outputId": "ff6585ff-6ca0-4eea-99d8-4f356d51e935"
   },
   "outputs": [
    {
     "data": {
      "text/plain": [
       "0.9507146191334604"
      ]
     },
     "execution_count": 41,
     "metadata": {},
     "output_type": "execute_result"
    }
   ],
   "source": [
    "rf.score(x_test,y_test)"
   ]
  },
  {
   "cell_type": "code",
   "execution_count": 42,
   "id": "62f655a0",
   "metadata": {
    "executionInfo": {
     "elapsed": 81,
     "status": "ok",
     "timestamp": 1652851742368,
     "user": {
      "displayName": "Aniketh H",
      "userId": "11737461681111421407"
     },
     "user_tz": -330
    },
    "id": "62f655a0"
   },
   "outputs": [],
   "source": [
    "y_pred1 = rf.predict(x_test)"
   ]
  },
  {
   "cell_type": "code",
   "execution_count": 43,
   "id": "748a37ea",
   "metadata": {
    "colab": {
     "base_uri": "https://localhost:8080/"
    },
    "executionInfo": {
     "elapsed": 82,
     "status": "ok",
     "timestamp": 1652851742369,
     "user": {
      "displayName": "Aniketh H",
      "userId": "11737461681111421407"
     },
     "user_tz": -330
    },
    "id": "748a37ea",
    "outputId": "b60ea0c4-f527-4b45-96ec-3220eab95f99"
   },
   "outputs": [
    {
     "data": {
      "text/plain": [
       "array([ 8352.  ,  1714.65,   160.  ,  6741.15,  1735.  ,  2983.  ,\n",
       "        6562.6 ,  8897.25,  5059.05,  2957.75,   375.  ,  1600.  ,\n",
       "         865.9 ,   400.  ,  2065.  ,  2641.2 ,  1735.  ,  2072.  ,\n",
       "        1682.95,  1570.5 ,   400.  ,  3906.75,  1526.55,   160.  ,\n",
       "         700.  ,  1526.55,  2036.25,  2416.  ,  1175.  ,   375.  ,\n",
       "        1562.45,  2546.3 ,  1628.  ,  2750.  ,  6692.  ,  5120.85,\n",
       "        4839.5 ,  1900.  ,  1735.  ,  5193.  ,  6392.  ,  1848.3 ,\n",
       "        3141.  ,  2654.7 ,  1361.8 ,  4862.1 ,   865.9 ,  3855.5 ,\n",
       "        2404.9 ,  1688.25,  1825.  ,   700.  ,  1900.  ,   160.  ,\n",
       "        5059.05,  3999.  ,  2432.25,   691.7 ,   550.  ,  1175.  ,\n",
       "        1750.  ,  6416.05,  1120.3 ,  3759.5 ,  4414.5 ,  2204.8 ,\n",
       "        6646.  ,   160.  ,   831.  ,   150.  ,   160.  ,  2468.2 ,\n",
       "        1786.  ,   160.  ,  8285.  ,  2404.  ,  3073.5 ,  3075.5 ,\n",
       "        3365.4 ,   313.9 ,  2404.  ,  1956.75,  5277.4 ,  3404.  ,\n",
       "         865.9 ,  2531.2 ,   750.  ,   535.  ,  1075.8 ,  1735.  ,\n",
       "        1556.3 ,  3421.25,   742.7 , 11045.85,  4253.  ,  2371.35,\n",
       "        1200.  ,  2403.4 ,  1550.  ,   375.  ,  1735.  ,   160.  ,\n",
       "         160.  ,  3809.  ,   615.  ,   750.  ,   160.  ,   400.  ,\n",
       "        4181.25,   615.  ,  1175.  ,  4414.5 ,  2009.4 ,  2654.7 ,\n",
       "        2344.6 ,  6889.25,  7890.  ,   535.  ,  5011.75,  1370.45,\n",
       "         491.  ,  1948.2 ,  4839.5 ,  1600.  ,   600.  ,  2975.  ,\n",
       "         700.  ,  3800.05,  3421.25,  2034.35,  3365.4 ,   400.  ,\n",
       "        1200.  ,   375.  ,  1362.  , 11045.85,  2019.4 ,   752.  ,\n",
       "         375.  ,  1848.3 ,   375.  ,  5815.25,  1500.65,  2411.65,\n",
       "        3088.  ,  1200.  ,  2641.2 ,  1295.75,  3855.5 ,  1750.  ,\n",
       "        5008.8 ,  1848.3 ,  2750.  ,  3450.  ,   600.  ,  3470.  ,\n",
       "        1175.  ,  6181.75,  5193.  ,  1075.8 ,  1096.5 ,  1362.  ,\n",
       "        1750.  ,  2547.4 ,  1108.2 ,  1175.  ,  1570.5 ,  6392.  ,\n",
       "        4458.55,  4104.95,  8897.25,  3109.4 ,   160.  ,   400.  ,\n",
       "        2988.1 ,  1425.5 ,  2009.4 ,   539.3 ,   375.  ,  2364.25,\n",
       "        6562.6 ,  4839.5 ,   160.  ,  2418.  ,  6045.  ,  3906.75,\n",
       "        2619.55,  3514.75,  3751.4 ,   535.  ,   535.  ,   535.  ,\n",
       "         700.  , 16359.  ,  3417.75,  1825.  ,  6525.8 ,  1956.75,\n",
       "         742.7 ,   509.5 ,  3500.  ,  1552.3 ,  3109.4 ,  2721.4 ,\n",
       "        4181.25,  2418.  ,   400.  ,  1600.  ,   375.  ,  1825.  ,\n",
       "         550.  ,  1758.15,   491.  ,   140.  ,   750.  ,   752.  ,\n",
       "        3450.  ,  5451.75,   831.  ,  7991.95,  5962.5 ,  3450.  ,\n",
       "        3450.  ,  3490.  ,   539.3 ,   160.  ,   400.  ,  6918.  ,\n",
       "         375.  ,  2790.  ,  1500.  ,   150.  ,  1714.65,  2392.3 ,\n",
       "        4004.  ,  3129.85,  2975.  ,   750.  ,  1187.15,  6392.  ,\n",
       "        1552.3 ,  2643.4 ,  2072.  ,   700.  ,  1600.  ,  2384.75,\n",
       "        2497.6 ,  6562.6 ,  6562.6 ,  1200.  ])"
      ]
     },
     "execution_count": 43,
     "metadata": {},
     "output_type": "execute_result"
    }
   ],
   "source": [
    "y_pred1"
   ]
  },
  {
   "cell_type": "code",
   "execution_count": 44,
   "id": "fb0d8f8e",
   "metadata": {
    "colab": {
     "base_uri": "https://localhost:8080/",
     "height": 500
    },
    "executionInfo": {
     "elapsed": 612,
     "status": "ok",
     "timestamp": 1652851742901,
     "user": {
      "displayName": "Aniketh H",
      "userId": "11737461681111421407"
     },
     "user_tz": -330
    },
    "id": "fb0d8f8e",
    "outputId": "fecdbb36-bed6-4a23-bb80-afb7ddc5d441"
   },
   "outputs": [
    {
     "data": {
      "text/plain": [
       "Text(0.5, 1.0, 'actual vs predicted ')"
      ]
     },
     "execution_count": 44,
     "metadata": {},
     "output_type": "execute_result"
    },
    {
     "data": {
      "image/png": "[encoded data removed]",
      "text/plain": [
       "<Figure size 864x576 with 1 Axes>"
      ]
     },
     "metadata": {
      "needs_background": "light"
     },
     "output_type": "display_data"
    }
   ],
   "source": [
    "plt.figure(figsize=(12,8))\n",
    "plt.scatter(y_test,y_pred1)\n",
    "plt.xlabel('actual values')\n",
    "plt.ylabel('predicted values')\n",
    "plt.title('actual vs predicted ')"
   ]
  },
  {
   "cell_type": "code",
   "execution_count": 45,
   "id": "098dde06",
   "metadata": {
    "colab": {
     "base_uri": "https://localhost:8080/"
    },
    "executionInfo": {
     "elapsed": 24,
     "status": "ok",
     "timestamp": 1652851742903,
     "user": {
      "displayName": "Aniketh H",
      "userId": "11737461681111421407"
     },
     "user_tz": -330
    },
    "id": "098dde06",
    "outputId": "890b81f7-d275-400c-f4e1-c2c93ace90e2"
   },
   "outputs": [
    {
     "name": "stdout",
     "output_type": "stream",
     "text": [
      "MAPE 0.035304966105227466\n"
     ]
    }
   ],
   "source": [
    "from sklearn.metrics import mean_absolute_percentage_error\n",
    "print('MAPE',mean_absolute_percentage_error(y_test, y_pred1))"
   ]
  },
  {
   "cell_type": "code",
   "execution_count": 46,
   "id": "a64c0c7b",
   "metadata": {},
   "outputs": [
    {
     "name": "stderr",
     "output_type": "stream",
     "text": [
      "C:\\Users\\hp\\anaconda3\\lib\\site-packages\\sklearn\\base.py:450: UserWarning: X does not have valid feature names, but RandomForestRegressor was fitted with feature names\n",
      "  warnings.warn(\n"
     ]
    },
    {
     "data": {
      "text/plain": [
       "array([3450.])"
      ]
     },
     "execution_count": 46,
     "metadata": {},
     "output_type": "execute_result"
    }
   ],
   "source": [
    "rf.predict([[1,1,1,1,700,750,800,1200]])"
   ]
  },
  {
   "cell_type": "code",
   "execution_count": 47,
   "id": "210a2f5d",
   "metadata": {},
   "outputs": [],
   "source": [
    "### Create a Pickle file using serialization \n",
    "import pickle\n",
    "pickle_out = open(\"rf.pkl\",\"wb\")\n",
    "pickle.dump(rf, pickle_out)\n",
    "pickle_out.close()"
   ]
  },
  {
   "cell_type": "code",
   "execution_count": null,
   "id": "038be262",
   "metadata": {},
   "outputs": [],
   "source": []
  }
 ],
 "metadata": {
  "colab": {
   "collapsed_sections": [],
   "name": "Adarsh .ipynb",
   "provenance": []
  },
  "kernelspec": {
   "display_name": "Python 3",
   "language": "python",
   "name": "python3"
  },
  "language_info": {
   "codemirror_mode": {
    "name": "ipython",
    "version": 3
   },
   "file_extension": ".py",
   "mimetype": "text/x-python",
   "name": "python",
   "nbconvert_exporter": "python",
   "pygments_lexer": "ipython3",
   "version": "3.8.8"
  }
 },
 "nbformat": 4,
 "nbformat_minor": 5
}
